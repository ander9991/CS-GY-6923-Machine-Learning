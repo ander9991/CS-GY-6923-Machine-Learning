{
 "cells": [
  {
   "cell_type": "code",
   "execution_count": 1,
   "metadata": {},
   "outputs": [],
   "source": [
    "from sklearn import datasets\n",
    "from sklearn import metrics\n",
    "import matplotlib.pyplot as plt\n",
    "import numpy as np\n",
    "import pandas as pd\n",
    "\n",
    "df = pd.read_csv(\"kddcup99.csv\")\n"
   ]
  },
  {
   "cell_type": "code",
   "execution_count": 2,
   "metadata": {},
   "outputs": [
    {
     "name": "stdout",
     "output_type": "stream",
     "text": [
      "744        1\n",
      "745        1\n",
      "4049       1\n",
      "4113       1\n",
      "7601       6\n",
      "          ..\n",
      "490959    29\n",
      "490960    30\n",
      "490961    31\n",
      "490962    32\n",
      "490963    33\n",
      "Name: count, Length: 396743, dtype: int64\n"
     ]
    }
   ],
   "source": [
    "def map_label(label):\n",
    "    if label in ['back', 'land', 'neptune', 'pod', 'smurf', 'teardrop']:\n",
    "        return 1\n",
    "    else:\n",
    "        return 0\n",
    "    \n",
    "df['labelBinary'] = df['label'].apply(map_label)\n",
    "\n",
    "df.drop(df[df['label'] == \"normal\"].index, inplace=True)\n",
    "\n",
    "df = df.drop('label', axis = 1)\n",
    "\n",
    "df2 = df.copy()\n",
    "\n",
    "print(df['count'])"
   ]
  },
  {
   "cell_type": "code",
   "execution_count": 3,
   "metadata": {},
   "outputs": [],
   "source": [
    "df_reset = df.reset_index(drop=True)\n",
    "\n",
    "vals1, df_reset['protocol_type'] = np.unique(df['protocol_type'].values, return_inverse=True)\n",
    "vals2, df_reset['service'] = np.unique(df['service'].values, return_inverse=True)\n",
    "vals3, df_reset['flag'] = np.unique(df['flag'].values, return_inverse=True)"
   ]
  },
  {
   "cell_type": "code",
   "execution_count": 4,
   "metadata": {},
   "outputs": [
    {
     "name": "stdout",
     "output_type": "stream",
     "text": [
      "10570\n"
     ]
    }
   ],
   "source": [
    "X = df_reset.iloc[: , :41]\n",
    "y = df_reset.iloc[: , 41:]\n",
    "\n",
    "from imblearn.under_sampling import RandomUnderSampler\n",
    "\n",
    "undersampler = RandomUnderSampler(random_state=42)\n",
    "X_resampled, y_resampled = undersampler.fit_resample(X, y)\n",
    "\n",
    "print(len(X_resampled))"
   ]
  },
  {
   "cell_type": "code",
   "execution_count": 5,
   "metadata": {},
   "outputs": [],
   "source": [
    "from sklearn.model_selection import train_test_split\n",
    "X_train, X_test, y_train, y_test = train_test_split(X_resampled, y_resampled, test_size = 0.2, random_state = 1)"
   ]
  },
  {
   "cell_type": "code",
   "execution_count": 6,
   "metadata": {},
   "outputs": [
    {
     "name": "stderr",
     "output_type": "stream",
     "text": [
      "c:\\Users\\steve\\AppData\\Local\\Programs\\Python\\Python311\\Lib\\site-packages\\sklearn\\utils\\validation.py:1184: DataConversionWarning: A column-vector y was passed when a 1d array was expected. Please change the shape of y to (n_samples, ), for example using ravel().\n",
      "  y = column_or_1d(y, warn=True)\n"
     ]
    }
   ],
   "source": [
    "from sklearn import svm\n",
    "\n",
    "svc = svm.SVC(kernel='linear', C=.1, gamma=.0073)\n",
    "\n",
    "svc.fit(X_train, y_train)"
   ]
  },
  {
   "cell_type": "code",
   "execution_count": null,
   "metadata": {},
   "outputs": [
    {
     "name": "stdout",
     "output_type": "stream",
     "text": [
      "        service  count\n",
      "0            54      1\n",
      "1            54      1\n",
      "2            54      1\n",
      "3            54      1\n",
      "4            54      6\n",
      "...         ...    ...\n",
      "396738       44     29\n",
      "396739       44     30\n",
      "396740       44     31\n",
      "396741       44     32\n",
      "396742       44     33\n",
      "\n",
      "[396743 rows x 2 columns]\n"
     ]
    }
   ],
   "source": [
    "X = pd.DataFrame()\n",
    "\n",
    "vals2, X['service'] = np.unique(df['service'].values, return_inverse=True)\n",
    "\n",
    "X['count'] = df['count'].reset_index(drop=True)\n",
    "\n",
    "y = df2['labelBinary']\n",
    "\n",
    "print(X)"
   ]
  },
  {
   "cell_type": "code",
   "execution_count": null,
   "metadata": {},
   "outputs": [
    {
     "name": "stdout",
     "output_type": "stream",
     "text": [
      "10570\n"
     ]
    }
   ],
   "source": [
    "from imblearn.under_sampling import RandomUnderSampler\n",
    "\n",
    "undersampler = RandomUnderSampler(random_state=42)\n",
    "X_resampled, y_resampled = undersampler.fit_resample(X, y)\n",
    "\n",
    "print(len(X_resampled))"
   ]
  }
 ],
 "metadata": {
  "kernelspec": {
   "display_name": "Python 3",
   "language": "python",
   "name": "python3"
  },
  "language_info": {
   "codemirror_mode": {
    "name": "ipython",
    "version": 3
   },
   "file_extension": ".py",
   "mimetype": "text/x-python",
   "name": "python",
   "nbconvert_exporter": "python",
   "pygments_lexer": "ipython3",
   "version": "3.11.5"
  },
  "orig_nbformat": 4
 },
 "nbformat": 4,
 "nbformat_minor": 2
}
